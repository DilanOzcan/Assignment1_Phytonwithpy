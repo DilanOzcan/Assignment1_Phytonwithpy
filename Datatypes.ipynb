{
 "cells": [
  {
   "cell_type": "code",
   "execution_count": 1,
   "id": "b4754f07",
   "metadata": {},
   "outputs": [
    {
     "name": "stdout",
     "output_type": "stream",
     "text": [
      "Final GrowthRate is:221.07%\n",
      "The Result is:2210.68\n"
     ]
    }
   ],
   "source": [
    "#Question1\n",
    "capital = 1000\n",
    "dailyGrowth = 1.12\n",
    "period = 7\n",
    "#Because you said daily increase, the increased value also added to daily this the value at the end of seven days(like compound interest)\n",
    "for i in range(period):\n",
    "    capital = capital * dailyGrowth\n",
    "print(\"Final GrowthRate is:{:.2f}%\".format(capital/1000*100))\n",
    "print(\"The Result is:{:.2f}\".format(capital))"
   ]
  },
  {
   "cell_type": "code",
   "execution_count": 2,
   "id": "38175eec",
   "metadata": {},
   "outputs": [
    {
     "name": "stdout",
     "output_type": "stream",
     "text": [
      "When we buy bitcoin with 1000 USD at the beginning of the week, we would earn 2210.68 USD at the end of the week, with an average gain of 12% daily, weeklky compound gain is:221.07%.\n"
     ]
    }
   ],
   "source": [
    "#Question2\n",
    "print(\"When we buy bitcoin with {} USD at the beginning of the week, we would earn {:.2f} USD at the end of the week, with an average gain of {}% daily, weeklky compound gain is:{:.2f}%.\".format(1000,capital,12,capital/1000*100))"
   ]
  },
  {
   "cell_type": "code",
   "execution_count": 3,
   "id": "2e7bd3e8",
   "metadata": {},
   "outputs": [
    {
     "name": "stdout",
     "output_type": "stream",
     "text": [
      "Please enter the Fahrenheit value:\n",
      "77\n",
      "The Temp in C is:25.00\n"
     ]
    }
   ],
   "source": [
    "#Question3\n",
    "print(\"Please enter the Fahrenheit value:\")\n",
    "fValue = float(input())\n",
    "print(\"The Temp in C is:{:.2f}\".format((5/9)*(fValue-32)))"
   ]
  },
  {
   "cell_type": "code",
   "execution_count": 4,
   "id": "7e9ffdb1",
   "metadata": {},
   "outputs": [
    {
     "name": "stdout",
     "output_type": "stream",
     "text": [
      "45\n",
      "The Sum of digits in number is: 9\n"
     ]
    }
   ],
   "source": [
    "#Question4\n",
    "number = int(input())\n",
    "first_value = int(number/100)\n",
    "second_value = int((number-first_value*100)/10)\n",
    "third_value = number%10;\n",
    "print(\"The Sum of digits in number is:\",first_value+second_value+third_value)"
   ]
  },
  {
   "cell_type": "code",
   "execution_count": 5,
   "id": "d5b0e82d",
   "metadata": {},
   "outputs": [
    {
     "name": "stdout",
     "output_type": "stream",
     "text": [
      "Please enter the first side:\n",
      "34\n",
      "Please enter the second side:\n",
      "56\n",
      "The Hypotenuse is: 65\n"
     ]
    }
   ],
   "source": [
    "#Question5\n",
    "print(\"Please enter the first side:\")\n",
    "a = int(input())\n",
    "print(\"Please enter the second side:\")\n",
    "b=  int(input())\n",
    "print(\"The Hypotenuse is:\",int((a**2+b**2)**(1/2)))"
   ]
  }
 ],
 "metadata": {
  "kernelspec": {
   "display_name": "Python 3 (ipykernel)",
   "language": "python",
   "name": "python3"
  },
  "language_info": {
   "codemirror_mode": {
    "name": "ipython",
    "version": 3
   },
   "file_extension": ".py",
   "mimetype": "text/x-python",
   "name": "python",
   "nbconvert_exporter": "python",
   "pygments_lexer": "ipython3",
   "version": "3.9.12"
  }
 },
 "nbformat": 4,
 "nbformat_minor": 5
}
