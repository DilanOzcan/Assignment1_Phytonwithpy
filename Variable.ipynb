{
 "cells": [
  {
   "cell_type": "code",
   "execution_count": 1,
   "id": "f31eaad8",
   "metadata": {},
   "outputs": [
    {
     "name": "stdout",
     "output_type": "stream",
     "text": [
      "They are not equal\n",
      "Their types are no equal\n",
      "Type of x: <class 'int'> Type of y: <class 'str'>\n"
     ]
    }
   ],
   "source": [
    "#Question1\n",
    "x = 1\n",
    "y ='1'\n",
    "if x == y:\n",
    "    print(\"They are equal\")\n",
    "else:\n",
    "    print(\"They are not equal\")\n",
    "if type(x) == type(y):\n",
    "    print(\"Their types are equal\")\n",
    "else:\n",
    "    print(\"Their types are no equal\")\n",
    "print(\"Type of x:\",type(x),\"Type of y:\",type(y))"
   ]
  },
  {
   "cell_type": "code",
   "execution_count": 2,
   "id": "fdfced9a",
   "metadata": {},
   "outputs": [
    {
     "name": "stdout",
     "output_type": "stream",
     "text": [
      "After updating type of y:\n",
      "Type of x: <class 'int'> Type of y: <class 'int'>\n"
     ]
    }
   ],
   "source": [
    "#Question2\n",
    "y = int(y)\n",
    "print(\"After updating type of y:\\nType of x:\",type(x),\"Type of y:\",type(y))"
   ]
  }
 ],
 "metadata": {
  "kernelspec": {
   "display_name": "Python 3 (ipykernel)",
   "language": "python",
   "name": "python3"
  },
  "language_info": {
   "codemirror_mode": {
    "name": "ipython",
    "version": 3
   },
   "file_extension": ".py",
   "mimetype": "text/x-python",
   "name": "python",
   "nbconvert_exporter": "python",
   "pygments_lexer": "ipython3",
   "version": "3.9.12"
  }
 },
 "nbformat": 4,
 "nbformat_minor": 5
}
