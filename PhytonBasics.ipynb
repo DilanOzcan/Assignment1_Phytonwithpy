{
 "cells": [
  {
   "cell_type": "code",
   "execution_count": 1,
   "id": "d979247d",
   "metadata": {},
   "outputs": [
    {
     "name": "stdout",
     "output_type": "stream",
     "text": [
      "Dilan Özcan\n"
     ]
    }
   ],
   "source": [
    "#Question1\n",
    "print(\"Dilan Özcan\")"
   ]
  },
  {
   "cell_type": "code",
   "execution_count": 2,
   "id": "13a7bf80",
   "metadata": {},
   "outputs": [
    {
     "name": "stdout",
     "output_type": "stream",
     "text": [
      "Dilan\n",
      "Özcan\n"
     ]
    }
   ],
   "source": [
    "#Question2\n",
    "print(\"Dilan\\nÖzcan\")"
   ]
  },
  {
   "cell_type": "code",
   "execution_count": 3,
   "id": "1798839b",
   "metadata": {},
   "outputs": [
    {
     "name": "stdout",
     "output_type": "stream",
     "text": [
      "'I don't want to be an \"artist\". I want to be a \"Data Scientist.\"'\n"
     ]
    }
   ],
   "source": [
    "#Question3\n",
    "print(\"\\'I don\\'t want to be an \\\"artist\\\". I want to be a \\\"Data Scientist.\\\"\\'\")"
   ]
  }
 ],
 "metadata": {
  "kernelspec": {
   "display_name": "Python 3 (ipykernel)",
   "language": "python",
   "name": "python3"
  },
  "language_info": {
   "codemirror_mode": {
    "name": "ipython",
    "version": 3
   },
   "file_extension": ".py",
   "mimetype": "text/x-python",
   "name": "python",
   "nbconvert_exporter": "python",
   "pygments_lexer": "ipython3",
   "version": "3.9.12"
  }
 },
 "nbformat": 4,
 "nbformat_minor": 5
}
