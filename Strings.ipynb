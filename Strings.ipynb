{
 "cells": [
  {
   "cell_type": "code",
   "execution_count": 1,
   "id": "cf1b8a6f",
   "metadata": {},
   "outputs": [
    {
     "name": "stdout",
     "output_type": "stream",
     "text": [
      "Please Enter Your Name\n",
      "Dilan\n",
      "Please Enter Your Surname\n",
      "Özcan\n",
      "Full name with lower case: dilanözcan\n"
     ]
    }
   ],
   "source": [
    "#Question1\n",
    "print(\"Please Enter Your Name\")\n",
    "name = input()\n",
    "print(\"Please Enter Your Surname\")\n",
    "surname = input()\n",
    "name = name.lower()\n",
    "surname = surname.lower()\n",
    "fullname = name+surname\n",
    "print(\"Full name with lower case:\",fullname)"
   ]
  },
  {
   "cell_type": "code",
   "execution_count": 2,
   "id": "41787e86",
   "metadata": {},
   "outputs": [
    {
     "name": "stdout",
     "output_type": "stream",
     "text": [
      "Please Enter the First Line Of the Poem\n",
      "Deep into that darkness peering,\n",
      "The firstLine is Deep into that darkness peering, \n",
      "The length is: 32\n",
      "Please Enter the Start Position\n",
      "3\n",
      "Please Enter the End Position\n",
      "15\n",
      "ep into that \n"
     ]
    }
   ],
   "source": [
    "#Question2\n",
    "print(\"Please Enter the First Line Of the Poem\")\n",
    "firstLine = input()\n",
    "length=str(len(firstLine))\n",
    "print(\"The firstLine is\",firstLine,\"\\nThe length is:\",length)\n",
    "print(\"Please Enter the Start Position\")\n",
    "start = int(input())\n",
    "start = start-1\n",
    "print(\"Please Enter the End Position\")\n",
    "end = int(input())\n",
    "print(firstLine[start:end])"
   ]
  },
  {
   "cell_type": "code",
   "execution_count": 3,
   "id": "5c8ccc5e",
   "metadata": {},
   "outputs": [
    {
     "name": "stdout",
     "output_type": "stream",
     "text": [
      "Please Enter the Text\n",
      "The reason why we remove it is because Python process these white space and if we have no idea about white spaces, there cannot properly process the text.\n",
      "Orginal Text:\n",
      " The reason why we remove it is because Python process these white space and if we have no idea about white spaces, there cannot properly process the text.\n",
      "Removed:\n",
      " he reason why we remove it is because Python process these white space and if we have no idea about white spaces, there cannot properly process the text\n",
      "hereasonwhyweremoveitisbecausePythonprocessthesewhitespaceandifwehavenoideaaboutwhitespaces,therecannotproperlyprocessthetext\n"
     ]
    }
   ],
   "source": [
    "#Question3\n",
    "print(\"Please Enter the Text\")\n",
    "firstLine = input()\n",
    "print(\"Orginal Text:\\n\",firstLine)\n",
    "firstLine = firstLine[1:len(firstLine)-1]\n",
    "print(\"Removed:\\n\",firstLine)\n",
    "firstLine = firstLine.replace(\" \",\"\")\n",
    "print(firstLine)"
   ]
  }
 ],
 "metadata": {
  "kernelspec": {
   "display_name": "Python 3 (ipykernel)",
   "language": "python",
   "name": "python3"
  },
  "language_info": {
   "codemirror_mode": {
    "name": "ipython",
    "version": 3
   },
   "file_extension": ".py",
   "mimetype": "text/x-python",
   "name": "python",
   "nbconvert_exporter": "python",
   "pygments_lexer": "ipython3",
   "version": "3.9.12"
  }
 },
 "nbformat": 4,
 "nbformat_minor": 5
}
